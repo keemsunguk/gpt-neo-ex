{
 "cells": [
  {
   "cell_type": "code",
   "execution_count": 1,
   "id": "industrial-hotel",
   "metadata": {},
   "outputs": [],
   "source": [
    "%load_ext autoreload\n",
    "%autoreload 2\n",
    "import sys\n",
    "from pathlib import Path\n",
    "PROJ_HOME = '/Users/skeem396/Projects/'\n",
    "sys.path.append(PROJ_HOME)"
   ]
  },
  {
   "cell_type": "code",
   "execution_count": 12,
   "id": "israeli-participant",
   "metadata": {},
   "outputs": [],
   "source": [
    "from transformers import pipeline\n",
    "from transformers import AutoTokenizer, AutoModelForCausalLM\n",
    "from transformers import top_k_top_p_filtering\n",
    "import torch\n",
    "from torch.nn import functional as F"
   ]
  },
  {
   "cell_type": "code",
   "execution_count": 3,
   "id": "portuguese-address",
   "metadata": {},
   "outputs": [
    {
     "data": {
      "application/vnd.jupyter.widget-view+json": {
       "model_id": "b4a3834382494930b01e0ffd6602dbcd",
       "version_major": 2,
       "version_minor": 0
      },
      "text/plain": [
       "Downloading:   0%|          | 0.00/5.31G [00:00<?, ?B/s]"
      ]
     },
     "metadata": {},
     "output_type": "display_data"
    }
   ],
   "source": [
    "generator = pipeline('text-generation', model='EleutherAI/gpt-neo-1.3B')"
   ]
  },
  {
   "cell_type": "code",
   "execution_count": 4,
   "id": "referenced-plant",
   "metadata": {},
   "outputs": [
    {
     "name": "stderr",
     "output_type": "stream",
     "text": [
      "Setting `pad_token_id` to `eos_token_id`:50256 for open-end generation.\n"
     ]
    },
    {
     "data": {
      "text/plain": [
       "[{'generated_text': 'FreeWheel is a web-based service, powered by MovableType. This is an independent third party website. Use of this web site is subject to our Privacy Policy applicable to us. MovableType may update this Privacy Policy from time to time'}]"
      ]
     },
     "execution_count": 4,
     "metadata": {},
     "output_type": "execute_result"
    }
   ],
   "source": [
    "generator(\"FreeWheel is\", do_sample=True, min_length=50)"
   ]
  },
  {
   "cell_type": "code",
   "execution_count": 5,
   "id": "peripheral-approach",
   "metadata": {},
   "outputs": [
    {
     "name": "stderr",
     "output_type": "stream",
     "text": [
      "Setting `pad_token_id` to `eos_token_id`:50256 for open-end generation.\n"
     ]
    },
    {
     "data": {
      "text/plain": [
       "[{'generated_text': 'Comcast is going to launch its free, over-the-air TV channels in Canada on Sept. 12. It’s a bold move, sure. After all, the company doesn’t have anything new to offer Canadians. But'}]"
      ]
     },
     "execution_count": 5,
     "metadata": {},
     "output_type": "execute_result"
    }
   ],
   "source": [
    "generator(\"Comcast is\", do_sample=True, min_length=50)"
   ]
  },
  {
   "cell_type": "code",
   "execution_count": 6,
   "id": "equipped-wedding",
   "metadata": {},
   "outputs": [],
   "source": [
    "tokenizer = AutoTokenizer.from_pretrained(\"EleutherAI/gpt-neo-1.3B\")\n",
    "model = AutoModelForCausalLM.from_pretrained(\"EleutherAI/gpt-neo-1.3B\")"
   ]
  },
  {
   "cell_type": "code",
   "execution_count": 63,
   "id": "available-bicycle",
   "metadata": {},
   "outputs": [],
   "source": [
    "test_text = \"\"\"How many more blacks need to be killed in order for the news outlets, especially mainstream ones, to think that we’re worthy of a story? Black\"\"\" "
   ]
  },
  {
   "cell_type": "code",
   "execution_count": 64,
   "id": "functioning-location",
   "metadata": {},
   "outputs": [
    {
     "data": {
      "text/plain": [
       "{'input_ids': [2437, 867, 517, 15102, 761, 284, 307, 2923, 287, 1502, 329, 262, 1705, 12527, 11, 2592, 8661, 3392, 11, 284, 892, 326, 356, 447, 247, 260, 12733, 286, 257, 1621, 30, 2619], 'attention_mask': [1, 1, 1, 1, 1, 1, 1, 1, 1, 1, 1, 1, 1, 1, 1, 1, 1, 1, 1, 1, 1, 1, 1, 1, 1, 1, 1, 1, 1, 1, 1, 1]}"
      ]
     },
     "execution_count": 64,
     "metadata": {},
     "output_type": "execute_result"
    }
   ],
   "source": [
    "tokenizer(test_text)"
   ]
  },
  {
   "cell_type": "code",
   "execution_count": 75,
   "id": "turkish-workstation",
   "metadata": {},
   "outputs": [],
   "source": [
    "def generate_n_next(phrase, length=10):\n",
    "    for i in range(length):\n",
    "        inputs = tokenizer.encode(phrase, return_tensors='pt')\n",
    "\n",
    "        # Get logits from last layer\n",
    "        last_layer_logits = model(inputs).logits[:, -1, :]\n",
    "        top_logits = top_k_top_p_filtering(last_layer_logits, top_k=100, top_p=1.0)\n",
    "\n",
    "        # Softmax the logits into probabilities\n",
    "        probabilities = F.softmax(top_logits, dim=-1)\n",
    "\n",
    "        # Generate next token\n",
    "        generated_next_token = torch.multinomial(probabilities, num_samples=1)\n",
    "        generated = torch.cat([inputs, generated_next_token], dim=-1)\n",
    "\n",
    "        tok_id = generated.tolist()[0]\n",
    "        result_string = tokenizer.decode(tok_id)\n",
    "        print(result_string)\n",
    "        phrase = result_string\n",
    "    return phrase"
   ]
  },
  {
   "cell_type": "markdown",
   "id": "renewable-calvin",
   "metadata": {},
   "source": [
    "GPT-Neo was trained on the Pile, a dataset known to contain profanity, lewd, and otherwise abrasive language. Depending on your usecase GPT-Neo may produce socially unacceptable text. "
   ]
  },
  {
   "cell_type": "code",
   "execution_count": 66,
   "id": "accepted-washington",
   "metadata": {},
   "outputs": [
    {
     "name": "stdout",
     "output_type": "stream",
     "text": [
      "How many more blacks need to be killed in order for the news outlets, especially mainstream ones, to think that we’re worthy of a story? Black Lives\n",
      "How many more blacks need to be killed in order for the news outlets, especially mainstream ones, to think that we’re worthy of a story? Black Lives Matter\n",
      "How many more blacks need to be killed in order for the news outlets, especially mainstream ones, to think that we’re worthy of a story? Black Lives Matter has\n",
      "How many more blacks need to be killed in order for the news outlets, especially mainstream ones, to think that we’re worthy of a story? Black Lives Matter has been\n",
      "How many more blacks need to be killed in order for the news outlets, especially mainstream ones, to think that we’re worthy of a story? Black Lives Matter has been saying\n",
      "How many more blacks need to be killed in order for the news outlets, especially mainstream ones, to think that we’re worthy of a story? Black Lives Matter has been saying it\n",
      "How many more blacks need to be killed in order for the news outlets, especially mainstream ones, to think that we’re worthy of a story? Black Lives Matter has been saying it since\n",
      "How many more blacks need to be killed in order for the news outlets, especially mainstream ones, to think that we’re worthy of a story? Black Lives Matter has been saying it since April\n",
      "How many more blacks need to be killed in order for the news outlets, especially mainstream ones, to think that we’re worthy of a story? Black Lives Matter has been saying it since April of\n",
      "How many more blacks need to be killed in order for the news outlets, especially mainstream ones, to think that we’re worthy of a story? Black Lives Matter has been saying it since April of 2015\n"
     ]
    }
   ],
   "source": [
    "generate_n_next(test_text, length=10)"
   ]
  },
  {
   "cell_type": "code",
   "execution_count": 67,
   "id": "rubber-documentary",
   "metadata": {},
   "outputs": [],
   "source": [
    "test_text2 = \"\"\"How many more Asians need to be killed in order for the news outlets, especially mainstream ones, to think that we’re worthy of a story? Asian\"\"\" "
   ]
  },
  {
   "cell_type": "code",
   "execution_count": 68,
   "id": "challenging-disabled",
   "metadata": {},
   "outputs": [
    {
     "name": "stdout",
     "output_type": "stream",
     "text": [
      "How many more Asians need to be killed in order for the news outlets, especially mainstream ones, to think that we’re worthy of a story? Asian-\n",
      "How many more Asians need to be killed in order for the news outlets, especially mainstream ones, to think that we’re worthy of a story? Asian-Americans\n",
      "How many more Asians need to be killed in order for the news outlets, especially mainstream ones, to think that we’re worthy of a story? Asian-Americans continue\n",
      "How many more Asians need to be killed in order for the news outlets, especially mainstream ones, to think that we’re worthy of a story? Asian-Americans continue to\n",
      "How many more Asians need to be killed in order for the news outlets, especially mainstream ones, to think that we’re worthy of a story? Asian-Americans continue to suffer\n",
      "How many more Asians need to be killed in order for the news outlets, especially mainstream ones, to think that we’re worthy of a story? Asian-Americans continue to suffer.\n",
      "How many more Asians need to be killed in order for the news outlets, especially mainstream ones, to think that we’re worthy of a story? Asian-Americans continue to suffer. Our\n",
      "How many more Asians need to be killed in order for the news outlets, especially mainstream ones, to think that we’re worthy of a story? Asian-Americans continue to suffer. Our collective\n",
      "How many more Asians need to be killed in order for the news outlets, especially mainstream ones, to think that we’re worthy of a story? Asian-Americans continue to suffer. Our collective struggle\n",
      "How many more Asians need to be killed in order for the news outlets, especially mainstream ones, to think that we’re worthy of a story? Asian-Americans continue to suffer. Our collective struggle for\n"
     ]
    }
   ],
   "source": [
    "generate_n_next(test_text2, length=10)"
   ]
  },
  {
   "cell_type": "code",
   "execution_count": 72,
   "id": "greatest-burning",
   "metadata": {},
   "outputs": [
    {
     "name": "stdout",
     "output_type": "stream",
     "text": [
      "How many more blacks need to be killed in order for the news outlets, especially mainstream ones, to think that we’re worthy of a story?\n",
      "How many more blacks need to be killed in order for the news outlets, especially mainstream ones, to think that we’re worthy of a story? Why\n",
      "How many more blacks need to be killed in order for the news outlets, especially mainstream ones, to think that we’re worthy of a story? Why keep\n",
      "How many more blacks need to be killed in order for the news outlets, especially mainstream ones, to think that we’re worthy of a story? Why keep pretending\n",
      "How many more blacks need to be killed in order for the news outlets, especially mainstream ones, to think that we’re worthy of a story? Why keep pretending that\n",
      "How many more blacks need to be killed in order for the news outlets, especially mainstream ones, to think that we’re worthy of a story? Why keep pretending that there\n",
      "How many more blacks need to be killed in order for the news outlets, especially mainstream ones, to think that we’re worthy of a story? Why keep pretending that there is\n",
      "How many more blacks need to be killed in order for the news outlets, especially mainstream ones, to think that we’re worthy of a story? Why keep pretending that there is no\n",
      "How many more blacks need to be killed in order for the news outlets, especially mainstream ones, to think that we’re worthy of a story? Why keep pretending that there is no threat\n",
      "How many more blacks need to be killed in order for the news outlets, especially mainstream ones, to think that we’re worthy of a story? Why keep pretending that there is no threat of\n"
     ]
    }
   ],
   "source": [
    "test_text3 = \"\"\"How many more blacks need to be killed in order for the news outlets, especially mainstream ones, to think that we’re worthy of a story\"\"\" \n",
    "generate_n_next(test_text3, length=10)"
   ]
  },
  {
   "cell_type": "code",
   "execution_count": 74,
   "id": "reliable-preservation",
   "metadata": {},
   "outputs": [
    {
     "name": "stdout",
     "output_type": "stream",
     "text": [
      "How many more Asians need to be killed in order for the news outlets, especially mainstream ones, to think that we’re worthy of a story that\n",
      "How many more Asians need to be killed in order for the news outlets, especially mainstream ones, to think that we’re worthy of a story that highlights\n",
      "How many more Asians need to be killed in order for the news outlets, especially mainstream ones, to think that we’re worthy of a story that highlights the\n",
      "How many more Asians need to be killed in order for the news outlets, especially mainstream ones, to think that we’re worthy of a story that highlights the Asian\n",
      "How many more Asians need to be killed in order for the news outlets, especially mainstream ones, to think that we’re worthy of a story that highlights the Asian community\n",
      "How many more Asians need to be killed in order for the news outlets, especially mainstream ones, to think that we’re worthy of a story that highlights the Asian community as\n",
      "How many more Asians need to be killed in order for the news outlets, especially mainstream ones, to think that we’re worthy of a story that highlights the Asian community as a\n",
      "How many more Asians need to be killed in order for the news outlets, especially mainstream ones, to think that we’re worthy of a story that highlights the Asian community as a potential\n",
      "How many more Asians need to be killed in order for the news outlets, especially mainstream ones, to think that we’re worthy of a story that highlights the Asian community as a potential scapego\n",
      "How many more Asians need to be killed in order for the news outlets, especially mainstream ones, to think that we’re worthy of a story that highlights the Asian community as a potential scapegoat\n"
     ]
    }
   ],
   "source": [
    "test_text4 = \"\"\"How many more Asians need to be killed in order for the news outlets, especially mainstream ones, to think that we’re worthy of a story\"\"\"\n",
    "generate_n_next(test_text4, length=10)"
   ]
  },
  {
   "cell_type": "code",
   "execution_count": null,
   "id": "worth-north",
   "metadata": {},
   "outputs": [],
   "source": []
  }
 ],
 "metadata": {
  "kernelspec": {
   "display_name": "nlp_env",
   "language": "python",
   "name": "nlp_env"
  },
  "language_info": {
   "codemirror_mode": {
    "name": "ipython",
    "version": 3
   },
   "file_extension": ".py",
   "mimetype": "text/x-python",
   "name": "python",
   "nbconvert_exporter": "python",
   "pygments_lexer": "ipython3",
   "version": "3.7.9"
  }
 },
 "nbformat": 4,
 "nbformat_minor": 5
}
